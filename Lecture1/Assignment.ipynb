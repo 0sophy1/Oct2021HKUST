{
 "cells": [
  {
   "cell_type": "markdown",
   "id": "02124067",
   "metadata": {},
   "source": [
    "## Assignment ##\n",
    "(note) The assignment idea and auxilary function for compute exact magneton comes from https://github.com/kuehnste/QiskitTutorial.\n",
    "\n",
    "We want to compute the real-time evolution of an initial state $|\\psi_0\\rangle$ under the Ising Hamiltonian\n",
    "$$H = \\sum_{i=0}^{N-2} Z_iZ_{i+1} + h\\sum_{i=0}^{N-1} X_i$$\n",
    "using a trotterized version of the time-evolution operator \n",
    "$$U(\\Delta t)\\approx \\prod_{k=0}^{N-2} \\exp\\left(-i Z_kZ_{k+1} \\Delta t\\right) \\prod_{k=0}^{N-1} \\exp\\left(-i hX_{k} \\Delta t\\right).$$\n",
    "Thus, we can obtain \n",
    "$$|\\psi(n\\Delta t)\\rangle = U(\\Delta t)^n|\\psi_0\\rangle.$$\n",
    "\n",
    "In the following we use $N=4$ and the initial state\n",
    "$$|\\psi_0\\rangle = |0010\\rangle$$."
   ]
  },
  {
   "cell_type": "code",
   "execution_count": null,
   "id": "3d04f951",
   "metadata": {},
   "outputs": [],
   "source": [
    "import numpy as np\n",
    "#from random import random\n",
    "from scipy.linalg import expm\n",
    "import matplotlib.pyplot as plt\n",
    "\n",
    "\n",
    "from qiskit import *\n",
    "#from qiskit.circuit.library.standard_gates import U2Gate\n",
    "from qiskit.aqua.operators import WeightedPauliOperator\n",
    "from qiskit.aqua.algorithms import NumPyEigensolver\n",
    "\n",
    "#from qiskit.visualization.bloch import Bloch\n",
    "import warnings\n",
    "warnings.filterwarnings('ignore')\n"
   ]
  },
  {
   "cell_type": "markdown",
   "id": "c597e36c",
   "metadata": {},
   "source": [
    "### Function for convenience which allows for running the simulator and extracting the results"
   ]
  },
  {
   "cell_type": "code",
   "execution_count": null,
   "id": "50cf81b1",
   "metadata": {},
   "outputs": [],
   "source": [
    "# Function for convenience which allows for running the simulator and extracting the results\n",
    "def run_on_qasm_simulator(quantum_circuit, num_shots):\n",
    "    \"\"\"Takes a circuit, the number of shots and a backend and returns the counts for running the circuit\n",
    "    on the qasm_simulator backend.\"\"\"\n",
    "    qasm_simulator = Aer.get_backend('qasm_simulator')\n",
    "    job = execute(quantum_circuit, backend=qasm_simulator, shots=num_shots)\n",
    "    result = job.result()\n",
    "    counts = result.get_counts()\n",
    "    return counts"
   ]
  },
  {
   "cell_type": "markdown",
   "id": "abcdd121",
   "metadata": {},
   "source": [
    "### Function providing the exact solution for the magnetization for comparison"
   ]
  },
  {
   "cell_type": "code",
   "execution_count": null,
   "id": "3c95ff43",
   "metadata": {},
   "outputs": [],
   "source": [
    "##Do not modify these functions#\n",
    "\n",
    "def Op(M, n ,N):\n",
    "    \"\"\"Given a single site operator, provide the N-body operator \n",
    "    string obtained by tensoring identities\"\"\"\n",
    "    d = M.shape[0]\n",
    "    id_left = np.eye(d**n)\n",
    "    id_right = np.eye(d**(N-n-1))\n",
    "    res = np.kron(id_left,np.kron(M,id_right))\n",
    "    return res\n",
    "\n",
    "def IsingHamiltonian(N, h):\n",
    "    \"\"\"The Ising Hamiltonian for N sites with parameter h\"\"\"\n",
    "    Z = np.array([[1., 0.],[0., -1.]])\n",
    "    X = np.array([[0., 1.],[1., 0.]])\n",
    "    H = np.zeros((2**N, 2**N))\n",
    "    for i in range(N):\n",
    "        if i<N-1:            \n",
    "            H += Op(Z, i, N)@Op(Z, i+1, N)\n",
    "        H += h*Op(X, i, N)\n",
    "    return H            \n",
    "\n",
    "# For reference, we provide a function computing the exact solution for\n",
    "# the magnetization as a function of time\n",
    "def get_magnetization_vs_time(h, delta_t, nsteps):\n",
    "    \"\"\"Compute the exact value of the magnetization\"\"\"\n",
    "    Z = np.array([[1., 0.],[0., -1.]])\n",
    "    X = np.array([[0., 1.],[1., 0.]])\n",
    "    Id = np.eye(2)\n",
    "    # The Ising Hamiltonian for 4 sites with parameter h\n",
    "    H = IsingHamiltonian(4, h)\n",
    "    # The time evolution operator for an interval \\Delta t\n",
    "    U = expm(-1.0j*delta_t*H)\n",
    "    # The operator for the total magnetization\n",
    "    M = Op(Z,0,4) + Op(Z,1,4) + Op(Z,2,4) + Op(Z,3,4)\n",
    "    # Numpy array to hold the results\n",
    "    magnetization = np.zeros(nsteps)\n",
    "    # The initial wave function corresponding to |0010>\n",
    "    psi = np.zeros(16)\n",
    "    psi[int('0010', 2)] = 1\n",
    "    # Evolve in steps of \\Delta t and measure the magnetization\n",
    "    for n in range(nsteps):\n",
    "        psi = U@psi\n",
    "        magnetization[n] = np.real(psi.conj().T@M@psi)\n",
    "    return magnetization"
   ]
  },
  {
   "cell_type": "markdown",
   "id": "228be7b6",
   "metadata": {},
   "source": [
    "## initial state\n",
    "\n",
    "Complete the following function which provides a quantum circuit creating the initial state $|0010\\rangle$ (all qubits in state zero, except for qubit 1) without measurement."
   ]
  },
  {
   "cell_type": "code",
   "execution_count": null,
   "id": "aee0869d",
   "metadata": {},
   "outputs": [],
   "source": [
    "def initial_state():\n",
    "    # Create a quantum circuit qc for 4 qubits\n",
    "    qc = QuantumCircuit(4)\n",
    "    \n",
    "    # Add the necessary gate(s) to provide the inital state |0010>\n",
    "\n",
    "    \n",
    "    return qc"
   ]
  },
  {
   "cell_type": "markdown",
   "id": "847a802f",
   "metadata": {},
   "source": [
    "## Compose Weighted Pauli operator from Paulis dict\n",
    "\n",
    "We can compose problem hamiltonian by using [WeightedPauliOperator](https://qiskit.org/documentation/stubs/qiskit.aqua.operators.legacy.WeightedPauliOperator.html). To use this, we need to define paulis dict of the hamiltonian.\n",
    "\n",
    "For example, if we want to make a Paulis dict with the hamiltonian $H = I0I1 + X1 + X0X1 + Y0Y1 + Z0Z1$ then the paulis dict would be"
   ]
  },
  {
   "cell_type": "code",
   "execution_count": null,
   "id": "8bc22348",
   "metadata": {},
   "outputs": [],
   "source": [
    "Paulis_example = {\n",
    "    'paulis': [{\"coeff\": {\"imag\": 0.0, \"real\": 1}, \"label\": 'II'},\n",
    "               {\"coeff\": {\"imag\": 0.0, \"real\": 1}, \"label\": \"IX\"},\n",
    "               {\"coeff\": {\"imag\": 0.0, \"real\": 1}, \"label\": \"XX\"},\n",
    "               {\"coeff\": {\"imag\": 0.0, \"real\": 1}, \"label\": \"YY\"},\n",
    "               {\"coeff\": {\"imag\": 0.0, \"real\": 1}, \"label\": \"ZZ\"}\n",
    "              ]}"
   ]
  },
  {
   "cell_type": "markdown",
   "id": "ec18e964",
   "metadata": {},
   "source": [
    "We can build Hamiltonian by using this"
   ]
  },
  {
   "cell_type": "code",
   "execution_count": null,
   "id": "e151b239",
   "metadata": {},
   "outputs": [],
   "source": [
    "H_example = WeightedPauliOperator.from_dict(Paulis_example)"
   ]
  },
  {
   "cell_type": "markdown",
   "id": "bb328796",
   "metadata": {},
   "source": [
    "With this hamiltonian, we can easily compute the ground state energy with NumpyEigenSolver from Qiskit."
   ]
  },
  {
   "cell_type": "code",
   "execution_count": null,
   "id": "4608d3f1",
   "metadata": {},
   "outputs": [],
   "source": [
    "np_res = NumPyEigensolver(H_example).run()\n",
    "ground_energy = min(np.real(np_res.eigenvalues))\n",
    "print('Ground state energy compute by numpy is: {}'.format(ground_energy))"
   ]
  },
  {
   "cell_type": "markdown",
   "id": "4684f9bf",
   "metadata": {},
   "source": [
    "To get the time evolution of this hamiltonian with $dt = 0.001$ and it's quantum circuit, we can use \"evolve\" function for this. Below example show you how to get the time evolution of the example hamiltonian and get it's quantum circuit."
   ]
  },
  {
   "cell_type": "code",
   "execution_count": null,
   "id": "1ec0e05e",
   "metadata": {},
   "outputs": [],
   "source": [
    "H_example_circuit = H_example.evolve(evo_time=0.001)\n",
    "\n",
    "backend = Aer.get_backend('qasm_simulator')\n",
    "qc_t=transpile(H_example_circuit,backend)\n",
    "\n",
    "qc_t.draw('mpl')"
   ]
  },
  {
   "cell_type": "markdown",
   "id": "217d816e",
   "metadata": {},
   "source": [
    "With this ingredient, let's build a function which returns system's paulis which receive \"h\" as input and return hamiltonina of it."
   ]
  },
  {
   "cell_type": "code",
   "execution_count": null,
   "id": "b3f047c9",
   "metadata": {},
   "outputs": [],
   "source": [
    "def hamiltonian(h):\n",
    "#H = Z0Z1 + Z1Z2 + Z2Z3 + h*X0 + h*X1 + h*X2 + h*X3\n",
    "    Paulis = {\n",
    "        'paulis': [\n",
    "            \n",
    "            #build paulis of the hamiltonian here\n",
    "            \n",
    "                  ]}\n",
    "    H = WeightedPauliOperator.from_dict(Paulis)\n",
    "    return H"
   ]
  },
  {
   "cell_type": "markdown",
   "id": "9468f664",
   "metadata": {},
   "source": [
    "## Functions for the time evoltuon\n",
    "\n",
    "After building the circuit implementing the initial state and the parts of the time evolution hamiltonian, the first of following functions allows for building the total circuit evolving the initial state in time by N steps.\n",
    "\n",
    "The second function allows for computing the magnetization given the counts resulting from a measurement."
   ]
  },
  {
   "cell_type": "code",
   "execution_count": null,
   "id": "a9b609e0",
   "metadata": {},
   "outputs": [],
   "source": [
    "def build_time_evolution_circuit(qc_init_state, qc_evolve, N):\n",
    "    \"\"\"Given the circuits implementing the initial state and the two parts\n",
    "    of the trotterized time-evolution operator build the circuit evolving the \n",
    "    wave function N steps\n",
    "    \"\"\"\n",
    "    # Generate an empty quantum circuit qc for 4 qubits\n",
    "    qc = QuantumCircuit(4)\n",
    "    # Add the inital state\n",
    "    qc.compose(qc_init_state, inplace=True)\n",
    "    \n",
    "    # For each time step add qc_evolve\n",
    "    for i in range(N):\n",
    "        qc.compose(qc_evolve, inplace=True)\n",
    "\n",
    "    # Add the final measurments\n",
    "    qc.measure_all()\n",
    "    return qc"
   ]
  },
  {
   "cell_type": "code",
   "execution_count": null,
   "id": "47000596",
   "metadata": {},
   "outputs": [],
   "source": [
    "def get_magnetization(counts):\n",
    "    \"\"\"Given the counts resulting form a measurement, compute the site\n",
    "    resolved magnetization\"\"\"\n",
    "    total_counts = sum(counts.values())\n",
    "    res = np.zeros(4)\n",
    "    for qubit in range(4):\n",
    "        Z_expectation = 0.\n",
    "        for key, value in counts.items():\n",
    "            if key[qubit] == '0':\n",
    "                Z_expectation += value\n",
    "            else:\n",
    "                Z_expectation -= value\n",
    "        res[qubit] = Z_expectation/total_counts\n",
    "    return res"
   ]
  },
  {
   "cell_type": "markdown",
   "id": "132156a1",
   "metadata": {},
   "source": [
    "## Run the evolution and visualize the results"
   ]
  },
  {
   "cell_type": "code",
   "execution_count": null,
   "id": "3715efac",
   "metadata": {},
   "outputs": [],
   "source": [
    "#set computational parameters\n",
    "\n",
    "qc_init_state = initial_state()\n",
    "h = 1.5\n",
    "delta_t = 0.05\n",
    "nsteps = 40\n",
    "nshots = 1000\n",
    "\n",
    "H = hamiltonian(h)"
   ]
  },
  {
   "cell_type": "code",
   "execution_count": null,
   "id": "7da26384",
   "metadata": {},
   "outputs": [],
   "source": [
    "#Numpy array for expectation values of the magnetization\n",
    "magnetization = np.zeros(nsteps)\n",
    "\n",
    "# Numpy array for qubit configuration\n",
    "configuration = np.zeros((4, nsteps))\n",
    "\n",
    "# Run the time evolution\n",
    "for n in range(1, nsteps+1):\n",
    "    # Build the evolution circuit out of qc_init_state, time evolution circuit, n\n",
    "    # n steps\n",
    "    qc_evo = build_time_evolution_circuit(qc_init_state, H.evolve(evo_time=delta_t), n)\n",
    "    qc_evo.draw()\n",
    "    \n",
    "    # Run the evolution circuit on the qasm_simulator\n",
    "    res = run_on_qasm_simulator(qc_evo, nshots)\n",
    "    \n",
    "    # Compute the ovservables\n",
    "    configuration[:,n-1] = get_magnetization(res)    \n",
    "    magnetization[n-1] = sum(configuration[:,n-1])\n",
    "# For reference we compute the exact solution\n",
    "magnetization_exact = get_magnetization_vs_time(h, delta_t, nsteps)"
   ]
  },
  {
   "cell_type": "code",
   "execution_count": null,
   "id": "64a6bb42",
   "metadata": {},
   "outputs": [],
   "source": [
    "# Plot the total magnetization as a function of time and compare to\n",
    "# the exact result\n",
    "plt.figure()\n",
    "plt.plot(magnetization_exact, '--', label='exact')\n",
    "plt.plot(magnetization, 'o', label='quantum circuit')\n",
    "plt.xlabel('$t/\\Delta t$')\n",
    "plt.ylabel('$<\\sum_i Z_i(t)>$')\n",
    "plt.title('Total magnetization')\n",
    "plt.legend()\n",
    "\n",
    "# Plot the site resolved spin configuration as a function of time\n",
    "plt.figure()\n",
    "plt.imshow(configuration, aspect='auto')\n",
    "plt.colorbar()\n",
    "plt.xlabel('$t/\\Delta t$')\n",
    "plt.ylabel('$<Z_i(t)>$')\n",
    "plt.title('Spatially resolved spin configuration')"
   ]
  },
  {
   "cell_type": "code",
   "execution_count": null,
   "id": "d1ebbc07",
   "metadata": {},
   "outputs": [],
   "source": []
  }
 ],
 "metadata": {
  "kernelspec": {
   "display_name": "Python 3 (ipykernel)",
   "language": "python",
   "name": "python3"
  },
  "language_info": {
   "codemirror_mode": {
    "name": "ipython",
    "version": 3
   },
   "file_extension": ".py",
   "mimetype": "text/x-python",
   "name": "python",
   "nbconvert_exporter": "python",
   "pygments_lexer": "ipython3",
   "version": "3.9.7"
  }
 },
 "nbformat": 4,
 "nbformat_minor": 5
}
