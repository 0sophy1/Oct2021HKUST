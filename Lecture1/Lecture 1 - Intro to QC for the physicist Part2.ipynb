{
 "cells": [
  {
   "cell_type": "markdown",
   "id": "ab30fe24",
   "metadata": {},
   "source": [
    "# Lecture 1\n",
    "\n",
    "~~- Part 1: Qiskit Basic (10min)~~\n",
    "    - ~~Basic Quantum Gates and Operations~~\n",
    "    - ~~Exercise: Quantum State manipulating with the gates - Bell State~~\n",
    "- Part 2: Tutorial with GHZ Circuit (30 min)\n",
    "    - Compose 3-qubits GHZ quantum circuits\n",
    "    - simulating them on various backends, and visualizing the results\n",
    "- Part 3: Introduction of the Quantum Information Theory (30min)\n",
    "    - Phase Kickback\n",
    "    - the Deutsch Jozsa algorithm\n",
    "- Exercise (20min):\n",
    "    - explore easy physics model by using qiskit with assignment1"
   ]
  },
  {
   "cell_type": "markdown",
   "id": "a0d44bb1",
   "metadata": {},
   "source": [
    "# Part 2: Tutorial with GHZ Circuit: Compose 3-qubits GHZ quantum circuits\n",
    "\n",
    "With this tutorial, we will learn how to build a fully entangled three-qubit quantum circuit and how to run this circuit via the quantum backend."
   ]
  },
  {
   "cell_type": "code",
   "execution_count": null,
   "id": "91639e0f",
   "metadata": {},
   "outputs": [],
   "source": [
    "# Importing standard Qiskit libraries\n",
    "from qiskit import QuantumCircuit, execute, Aer, IBMQ\n",
    "from qiskit.visualization import *\n",
    "from qiskit.quantum_info import state_fidelity\n",
    "\n",
    "import numpy as np\n",
    "\n",
    "#ignore warnings\n",
    "import warnings\n",
    "warnings.filterwarnings('ignore')\n",
    "\n",
    "# Magic function to render plots\n",
    "%matplotlib inline"
   ]
  },
  {
   "cell_type": "markdown",
   "id": "a710bf8e",
   "metadata": {},
   "source": [
    "## step1: build a three-qubit GHZ state\n",
    "Let's start to compose the [GHZ(Greenberger–Horne–Zeilinger) circuit](https://en.wikipedia.org/wiki/Greenberger%E2%80%93Horne%E2%80%93Zeilinger_state) by initializing the quantum circuit with 3 qubits.\n",
    "\n",
    "The following command creates an empty quantum circuit with `num_qubits` qubits, where all qubits are initialized in the $|0\\rangle$ state."
   ]
  },
  {
   "cell_type": "code",
   "execution_count": null,
   "id": "6969ccb1",
   "metadata": {},
   "outputs": [],
   "source": [
    "num_qubits = 3\n",
    "qc = QuantumCircuit(num_qubits)\n",
    "#draw circuit: most used method\n",
    "qc.draw('mpl')\n",
    "\n",
    "##draw circuit: text\n",
    "#qc.draw(output='text')\n",
    "\n",
    "##draw circuit: with style\n",
    "#style = {'backgroundcolor': 'red'}\n",
    "#qc.draw(output='mpl', style=style)"
   ]
  },
  {
   "attachments": {
    "image.png": {
     "image/png": "[encoded data removed]"
    }
   },
   "cell_type": "markdown",
   "id": "36747930",
   "metadata": {},
   "source": [
    "For more option and guide, please check this: https://qiskit.org/documentation/tutorials/circuits_advanced/03_advanced_circuit_visualization.html \n",
    "\n",
    "After you create the circuit with its quantum registers, you can add gates (\"operations\") to manipulate the registers. This time we will use a three-qubit GHZ state to understand how to use Qiskit to build a circuit and run.\n",
    "\n",
    "$$|\\psi\\rangle = \\left(|000\\rangle+|111\\rangle\\right)/\\sqrt{2}.$$\n",
    "\n",
    "To create such a state, we start with a three-qubit quantum register. By default, each qubit in the register is initialized to $|0\\rangle$ as we've already done above. To make the GHZ state, we apply the following gates:\n",
    "* A Hadamard gate $H$ on qubit 0, which puts it into the superposition state $\\left(|0\\rangle+|1\\rangle\\right)/\\sqrt{2}$.\n",
    "* A controlled-Not operation ($C_{X}$) between qubit 0 and qubit 1.\n",
    "* A controlled-Not operation between qubit 1 and qubit 2.\n",
    "\n",
    "On an ideal quantum computer, the state produced by running this circuit would be the GHZ state above.\n",
    "\n",
    "In Qiskit, operations can be added to the circuit one by one, as shown below.\n",
    "\n",
    "\n",
    "![image.png](attachment:image.png)\n",
    "\n",
    "Let's compose this circuit by using quantum gates."
   ]
  },
  {
   "cell_type": "code",
   "execution_count": null,
   "id": "dc95c403",
   "metadata": {},
   "outputs": [],
   "source": [
    "#write your code here#\n",
    "\n",
    "#write your code here#\n",
    "\n",
    "qc.draw('mpl')"
   ]
  },
  {
   "cell_type": "markdown",
   "id": "082990e7",
   "metadata": {},
   "source": [
    "## step2: Measure and visualize the GHZ circuit\n",
    "\n",
    "If we want run the experiment on quantum hardware or a classical simulator emulating quantum hardware, we have to add a final measurement to the qubits to obtain information about the quantum state. The double line indicates a classical register where the number on top of the slash indicates how many classical registers we have. The k-th classical register will hold the measurement outcome of qubit k."
   ]
  },
  {
   "cell_type": "markdown",
   "id": "cd531d30",
   "metadata": {},
   "source": [
    "### Simulating circuits using Qiskit Aer  statevector backend \"without measurement\"<a name='simulation'></a>\n",
    "\n",
    "Qiskit Aer is qiskit package for simulating quantum circuits. It provides many different backends for doing a simulation. The most common backend in Qiskit Aer is the `statevector_simulator`. This simulator returns the quantum \n",
    "state, which is a complex vector of dimensions $2^n$, where $n$ is the number of qubits \n",
    "(so be careful using this as it will quickly get too large to run on your machine).\n",
    "\n",
    "From the measurement outcomes we can compute observables which are diagonal in the computational basis. Assuming $D=\\mathrm{diag}(\\lambda_0,\\dots,\\lambda_{2^N-1})$ we can calculate $\\langle \\psi |D|\\psi\\rangle$ by expanding the wave function in the computational basis, $|\\psi\\rangle = \\sum_i c_i |i\\rangle$:\n",
    "$$\\langle \\psi |D|\\psi\\rangle = \\sum_{i=0}^{2^N-1} |c_i|^2 \\lambda_i.$$\n",
    "Dividing the counts by the number of shots, we get an estimate for $|c_i|^2$.\n",
    "\n",
    "For developing and debugging purposes, we frequently look at the state vector. While this cannot be done efficiently on a quantum computer, Qiskit offers the possibility to obtain the state vector using the `statevector_simulator` backend.\n",
    "\n",
    "We can run this circuit on the state vector simulator to get the full wave function $|\\psi\\rangle$"
   ]
  },
  {
   "cell_type": "code",
   "execution_count": null,
   "id": "6835c557",
   "metadata": {},
   "outputs": [],
   "source": [
    "from qiskit import Aer\n",
    "\n",
    "# Run the quantum circuit on a statevector simulator backend\n",
    "backend = Aer.get_backend('statevector_simulator')"
   ]
  },
  {
   "cell_type": "markdown",
   "id": "701b6102",
   "metadata": {},
   "source": [
    "Now that we have chosen the backend, it's time to compile and run the quantum circuit. In Qiskit we provide the `execute` function for this. ``execute`` returns a ``job`` object that encapsulates information about the job submitted to the backend."
   ]
  },
  {
   "cell_type": "code",
   "execution_count": null,
   "id": "6f324c1d",
   "metadata": {},
   "outputs": [],
   "source": [
    "# Create a Quantum Program for execution \n",
    "job = execute(qc, backend)"
   ]
  },
  {
   "cell_type": "code",
   "execution_count": null,
   "id": "24c7a385",
   "metadata": {},
   "outputs": [],
   "source": [
    "# Retrieve the results from the job object\n",
    "job = execute(qc, backend)\n",
    "result = job.result()\n",
    "# Among other information the result object contains the information\n",
    "# about the measurement outcomes\n",
    "counts = result.get_counts()\n",
    "psi = result.get_statevector()\n",
    "\n",
    "print('Total counts for the computational basis states:',counts)\n",
    "print('|psi> =',psi)"
   ]
  },
  {
   "cell_type": "markdown",
   "id": "b21b60f4",
   "metadata": {},
   "source": [
    "### Simulating circuits using Qiskit Aer  statevector backend \"with measurement\"<a name='simulation'></a>\n",
    " \n",
    "Note that we did __not__ add a measurement at the end of the circuit, as this would project the state vector to one of the basis state and the state vector simulator would only yield a single basis state (as you can see in the example below)."
   ]
  },
  {
   "cell_type": "code",
   "execution_count": null,
   "id": "48d9eb32",
   "metadata": {},
   "outputs": [],
   "source": [
    "# Add a measurement to all qubits\n",
    "qc.measure_all()\n",
    "# Visualize the result once more\n",
    "qc.draw('mpl')"
   ]
  },
  {
   "cell_type": "code",
   "execution_count": null,
   "id": "c7dc7ae0",
   "metadata": {},
   "outputs": [],
   "source": [
    "# Create a Quantum Program for execution \n",
    "job = execute(qc, backend, shots = 8192)"
   ]
  },
  {
   "cell_type": "code",
   "execution_count": null,
   "id": "fb612ac4",
   "metadata": {},
   "outputs": [],
   "source": [
    "result = job.result()\n",
    "\n",
    "counts = result.get_counts()\n",
    "psi_with_measurement = result.get_statevector()\n",
    "print('|psi_with_measurement> =',psi_with_measurement)\n",
    "print('Total counts for the computational basis states:',counts)"
   ]
  },
  {
   "cell_type": "markdown",
   "id": "925ce00f",
   "metadata": {},
   "source": [
    "### Simulating circuits using Qiskit Aer  openqasm backend with measurement - local run<a name='simulation'></a>\n",
    "<a name='simulation'></a>\n",
    "\n",
    "Qiskit's openqasm simulator is a general-purpose simulator for simulating quantum circuits both ideally and subject to noise modeling. The simulation method is automatically selected based on the input circuits and parameters.\n",
    "\n",
    "To simulate this circuit, we use the ``qasm_simulator`` in Qiskit Aer. Each run of this circuit will yield either the bitstring 000 or 111. To build up statistics about the distribution of the bitstrings (to, e.g., estimate $\\mathrm{Pr}(000)$), we need to repeat the circuit many times. The number of times the circuit is repeated can be specified in the ``execute`` function, via the ``shots`` keyword."
   ]
  },
  {
   "cell_type": "code",
   "execution_count": null,
   "id": "5d96d1c3",
   "metadata": {},
   "outputs": [],
   "source": [
    "# Generate a qasm_simulator backend which emulates a quantum computer\n",
    "qasm_simulator = Aer.get_backend('qasm_simulator')\n",
    "\n",
    "job = execute(qc, qasm_simulator, shots=8192)\n",
    "result = job.result()\n",
    "\n",
    "qasm_counts = result.get_counts()\n",
    "print('Total counts for the computational basis states:',counts)"
   ]
  },
  {
   "cell_type": "markdown",
   "id": "33501b31",
   "metadata": {},
   "source": [
    "Approximately 50 percent of the time, the output bitstring is 000. Qiskit also provides a function `plot_histogram`, which allows you to view the outcomes. "
   ]
  },
  {
   "cell_type": "code",
   "execution_count": null,
   "id": "8756256d",
   "metadata": {},
   "outputs": [],
   "source": [
    "from qiskit.visualization import plot_histogram\n",
    "plot_histogram(qasm_counts)"
   ]
  },
  {
   "cell_type": "markdown",
   "id": "f65dba37",
   "metadata": {},
   "source": [
    "We can add a noise model to the qasmsimulator to mimic the noise configuration of the real backend.\n",
    "\n"
   ]
  },
  {
   "cell_type": "code",
   "execution_count": null,
   "id": "9f3cb1ac",
   "metadata": {},
   "outputs": [],
   "source": [
    "from qiskit.test.mock import FakeVigo\n",
    "from qiskit.providers.aer.noise import NoiseModel\n",
    "\n",
    "noisy_backend = FakeVigo() \n",
    "\n",
    "noise_model = NoiseModel.from_backend(noisy_backend)\n",
    "coupling_map = noisy_backend.configuration().coupling_map\n",
    "\n",
    "job = execute(qc, qasm_simulator, shots=8192, coupling_map=coupling_map, noise_model=noise_model)\n",
    "result = job.result()\n",
    "\n",
    "counts = result.get_counts()\n",
    "print('Total counts for the computational basis states:',counts)\n",
    "\n",
    "plot_histogram(counts)"
   ]
  },
  {
   "cell_type": "markdown",
   "id": "dfc5eec6",
   "metadata": {},
   "source": [
    "### transpile\n",
    "\n",
    "Before running a quantum circuit, every circuit needs to be transpiled to run onto the quantum backend. it includes:\n",
    "1. decompose our circuit into the basis gate of the each backend\n",
    "2. find a best qubit path to reduce the noise,\n",
    "etc.\n",
    "\n",
    "Let's take a glance at this transpiling simply with the one of the multi-qubit gate - CCX."
   ]
  },
  {
   "cell_type": "code",
   "execution_count": null,
   "id": "313970c3",
   "metadata": {},
   "outputs": [],
   "source": [
    "print(noisy_backend.configuration().basis_gates)\n",
    "print(qasm_simulator.configuration().basis_gates)"
   ]
  },
  {
   "cell_type": "code",
   "execution_count": null,
   "id": "4040fe91",
   "metadata": {},
   "outputs": [],
   "source": [
    "test_ccx = QuantumCircuit(3)\n",
    "test_ccx.ccx(0,1,2)\n",
    "test_ccx.measure_all()\n",
    "test_ccx.draw('mpl')"
   ]
  },
  {
   "cell_type": "code",
   "execution_count": null,
   "id": "d6b37419",
   "metadata": {},
   "outputs": [],
   "source": [
    "from qiskit import transpile\n",
    "from qiskit.visualization import plot_circuit_layout\n",
    "\n",
    "\n",
    "new_circ_lv0 = transpile(test_ccx, backend=noisy_backend, optimization_level=0)\n",
    "new_circ_lv0.draw('mpl')"
   ]
  },
  {
   "cell_type": "code",
   "execution_count": null,
   "id": "ecd8b701",
   "metadata": {},
   "outputs": [],
   "source": [
    "result = noisy_backend.run(new_circ_lv0, shots=8192).result()\n",
    "counts = result.get_counts()\n",
    "plot_histogram(counts)"
   ]
  },
  {
   "cell_type": "code",
   "execution_count": null,
   "id": "007f3d7e",
   "metadata": {},
   "outputs": [],
   "source": [
    "new_circ_lv3 = transpile(test_ccx, backend=noisy_backend, optimization_level=3)\n",
    "new_circ_lv3.draw('mpl')"
   ]
  },
  {
   "cell_type": "code",
   "execution_count": null,
   "id": "e7422c66",
   "metadata": {},
   "outputs": [],
   "source": [
    "result = noisy_backend.run(new_circ_lv3, shots=8192).result()\n",
    "counts = result.get_counts()\n",
    "plot_histogram(counts)"
   ]
  },
  {
   "cell_type": "code",
   "execution_count": null,
   "id": "62cfb267",
   "metadata": {},
   "outputs": [],
   "source": [
    "new_circ_qasm0 = transpile(test_ccx, backend=qasm_simulator, optimization_level=0)\n",
    "new_circ_qasm0.draw('mpl')"
   ]
  },
  {
   "cell_type": "code",
   "execution_count": null,
   "id": "1de581e1",
   "metadata": {},
   "outputs": [],
   "source": [
    "new_circ_qasm = transpile(test_ccx, backend=qasm_simulator, optimization_level=3)\n",
    "new_circ_qasm.draw('mpl')"
   ]
  },
  {
   "cell_type": "markdown",
   "id": "7fdab7ea",
   "metadata": {},
   "source": [
    "## Running circuits with the IBM Q account <a name='ibmq'></a>\n",
    "\n",
    "To facilitate access to real quantum computing hardware, we have provided a simple API interface.\n",
    "To access IBM Q devices, you'll need an API token. You can generate, or view, your API token [here](https://quantum-computing.ibm.com/account) (create an account if you don't already have one).\n",
    "\n",
    "Your IBM Q account lets you run your circuit on real devices or on our cloud simulator. Basic account usage can be seen in the examples below. For more detailed instructions on using the IBM Q account, see [Part 3: The IBMQ Account](3_the_ibmq_account.ipynb)."
   ]
  },
  {
   "cell_type": "code",
   "execution_count": null,
   "id": "0497240a",
   "metadata": {},
   "outputs": [],
   "source": [
    "from qiskit import IBMQ"
   ]
  },
  {
   "cell_type": "markdown",
   "id": "c128cc4f",
   "metadata": {},
   "source": [
    "After generating your API token, call: `IBMQ.save_account('MY_TOKEN')`.\n",
    "\n",
    "This will store your IBM Q credentials in a local file.  Unless your registration information has changed, you only need to do this once.  You may now load your accounts by calling,"
   ]
  },
  {
   "cell_type": "code",
   "execution_count": null,
   "id": "ba331ba2",
   "metadata": {},
   "outputs": [],
   "source": [
    "IBMQ.load_account()"
   ]
  },
  {
   "cell_type": "markdown",
   "id": "339d9feb",
   "metadata": {},
   "source": [
    "Once your account has been loaded, you have one or more providers available to you"
   ]
  },
  {
   "cell_type": "code",
   "execution_count": null,
   "id": "b4b7269b",
   "metadata": {},
   "outputs": [],
   "source": [
    "IBMQ.providers()"
   ]
  },
  {
   "cell_type": "markdown",
   "id": "d034ca44",
   "metadata": {},
   "source": [
    "Each provider gives access to a selection of services (e.g. Backends) that is authorized by your account.  To see the backends available to a given provider, first select the provider by hub, group, project, or a combination thereof:"
   ]
  },
  {
   "cell_type": "code",
   "execution_count": null,
   "id": "20abef1b",
   "metadata": {},
   "outputs": [],
   "source": [
    "provider = IBMQ.get_provider(group='open')"
   ]
  },
  {
   "cell_type": "markdown",
   "id": "059188cf",
   "metadata": {},
   "source": [
    "then ask the provider to list its backends:"
   ]
  },
  {
   "cell_type": "code",
   "execution_count": null,
   "id": "677a930e",
   "metadata": {},
   "outputs": [],
   "source": [
    "provider.backends()"
   ]
  },
  {
   "cell_type": "markdown",
   "id": "74c844da",
   "metadata": {},
   "source": [
    "### Running circuits on real devices\n",
    "\n",
    "Today's quantum information processors are small and noisy, but are advancing at a fast pace. They provide a great opportunity to explore what [noisy, intermediate-scale quantum (NISQ)](https://arxiv.org/abs/1801.00862) computers can do."
   ]
  },
  {
   "cell_type": "markdown",
   "id": "a390f1e6",
   "metadata": {},
   "source": [
    "Let us now grab a backend from the provider on which to run our quantum circuit with least_busy function with filtering options to find a least_busy backend with more than 3 qubits and not a simulator"
   ]
  },
  {
   "cell_type": "code",
   "execution_count": null,
   "id": "6fb46fc1",
   "metadata": {},
   "outputs": [],
   "source": [
    "from qiskit.providers.ibmq import least_busy\n",
    "q3devices = provider.backends(filters=lambda x: x.configuration().n_qubits > 3\n",
    "                                   and not x.configuration().simulator)\n",
    "backend = least_busy(q3devices)"
   ]
  },
  {
   "cell_type": "code",
   "execution_count": null,
   "id": "a2ed9302",
   "metadata": {},
   "outputs": [],
   "source": [
    "from qiskit.tools.jupyter import *\n",
    "backend"
   ]
  },
  {
   "cell_type": "markdown",
   "id": "568d5a3f",
   "metadata": {},
   "source": [
    "To run the circuit on the given device we use `execute`.  Sometimes the devices are busy with jobs from other users.  Your job is added to the list of pending jobs called the queue, and executed in this queue order.  To monitor the status of our job through the process, we can use the `job_monitor`"
   ]
  },
  {
   "cell_type": "code",
   "execution_count": null,
   "id": "3262158b",
   "metadata": {},
   "outputs": [],
   "source": [
    "from qiskit.tools.monitor import job_monitor\n",
    "\n",
    "job_exp = execute(qc, backend=backend, optimization_level=3, shots=8192)\n",
    "job_monitor(job_exp)"
   ]
  },
  {
   "cell_type": "markdown",
   "id": "6d820263",
   "metadata": {},
   "source": [
    "``job_exp`` has a ``.result()`` method that lets us get the results from running our circuit.\n",
    "\n",
    "<div class=\"alert alert-block alert-info\">\n",
    "<b>Note:</b> When the .result() method is called, the code block will wait until the job has finished before releasing the cell.\n",
    "</div>"
   ]
  },
  {
   "cell_type": "code",
   "execution_count": null,
   "id": "de46fc28",
   "metadata": {},
   "outputs": [],
   "source": [
    "result_exp = job_exp.result()"
   ]
  },
  {
   "cell_type": "markdown",
   "id": "6a287fe3",
   "metadata": {},
   "source": [
    "Like before, the counts from the execution can be obtained using ```get_counts(qc)``` "
   ]
  },
  {
   "cell_type": "code",
   "execution_count": null,
   "id": "534a0adc",
   "metadata": {},
   "outputs": [],
   "source": [
    "result_exp = job_exp.result()\n",
    "counts_exp = result_exp.get_counts(qc)\n",
    "plot_histogram([counts_exp,qasm_counts], legend=['Device', 'Simulator'])"
   ]
  },
  {
   "cell_type": "markdown",
   "id": "dccd2a4a",
   "metadata": {},
   "source": [
    "### Simulating circuits using the IBM Q cloud simulator\n",
    "\n",
    "The IBM Q provider also comes with a remote optimized simulator called ``ibmq_qasm_simulator``. This remote simulator is capable of simulating up to 32 qubits. It can be used the same way as the remote real backends. "
   ]
  },
  {
   "cell_type": "code",
   "execution_count": null,
   "id": "4e9ef253",
   "metadata": {},
   "outputs": [],
   "source": [
    "simulator_backend = provider.get_backend('ibmq_qasm_simulator')"
   ]
  },
  {
   "cell_type": "code",
   "execution_count": null,
   "id": "60b8a3a9",
   "metadata": {},
   "outputs": [],
   "source": [
    "job_cloud = execute(qc, backend=simulator_backend)\n",
    "result_cloud = job_cloud.result()"
   ]
  },
  {
   "cell_type": "code",
   "execution_count": null,
   "id": "d7b3a45e",
   "metadata": {},
   "outputs": [],
   "source": [
    "counts_cloud = result_cloud.get_counts(qc)\n",
    "\n",
    "plot_histogram([counts_cloud, counts_exp,counts], legend=['Cloud','Device', 'Simulator'])\n"
   ]
  },
  {
   "cell_type": "markdown",
   "id": "97c1c4d8",
   "metadata": {},
   "source": [
    "### Retrieving a previously run job\n",
    "\n",
    "If your experiment takes longer to run then you have time to wait around, or if you simply want to retrieve old jobs, the IBM Q backends allow you to do that.\n",
    "First, you would need to note your job's ID:"
   ]
  },
  {
   "cell_type": "code",
   "execution_count": null,
   "id": "43922651",
   "metadata": {},
   "outputs": [],
   "source": [
    "job_id = job_exp.job_id()\n",
    "\n",
    "print('JOB ID: {}'.format(job_id))"
   ]
  },
  {
   "cell_type": "markdown",
   "id": "a52b5a7e",
   "metadata": {},
   "source": [
    "Given a job ID, that job object can be later reconstructed from the backend using ```retrieve_job```:"
   ]
  },
  {
   "cell_type": "code",
   "execution_count": null,
   "id": "c384ba72",
   "metadata": {},
   "outputs": [],
   "source": [
    "retrieved_job = backend.retrieve_job(job_id)"
   ]
  },
  {
   "cell_type": "code",
   "execution_count": null,
   "id": "0e867afa",
   "metadata": {},
   "outputs": [],
   "source": [
    "retrieved_job.result().get_counts(qc)"
   ]
  },
  {
   "cell_type": "markdown",
   "id": "5fbad997",
   "metadata": {},
   "source": [
    "### Checking the fidelity\n",
    "A good measure to check if two pure quantum states are the same is the fidelity\n",
    "$$F(|\\psi_1\\rangle, |\\psi_2\\rangle) = |\\langle\\psi_1|\\psi_2\\rangle|^2$$\n",
    "which is 0 iff $|\\psi_1\\rangle \\bot |\\psi_2\\rangle$ and 1 iff $|\\psi_1\\rangle = |\\psi_2\\rangle$ up to a global phase. "
   ]
  },
  {
   "cell_type": "code",
   "execution_count": null,
   "id": "2342ef0c",
   "metadata": {},
   "outputs": [],
   "source": [
    "print('F(|psi>, |psi>) =',state_fidelity(psi,psi))\n",
    "print('F(|psi>, |psi_with_measurement>) =',state_fidelity(psi,psi_with_measurement))\n"
   ]
  },
  {
   "cell_type": "markdown",
   "id": "93a3205d",
   "metadata": {},
   "source": [
    "### Visualizing the results from the state vector simulator\n",
    "The density matrix $\\rho = |\\psi\\rangle\\langle\\psi|$ can be visualized in various ways as shown in the following."
   ]
  },
  {
   "cell_type": "code",
   "execution_count": null,
   "id": "28176b38",
   "metadata": {},
   "outputs": [],
   "source": [
    "# Plot the real and imaginary parts of the density matrix\n",
    "plot_state_city(psi)"
   ]
  },
  {
   "cell_type": "code",
   "execution_count": null,
   "id": "38a27db9",
   "metadata": {},
   "outputs": [],
   "source": [
    "# Plot a 2d projection of the real and imaginary part of the density matrix\n",
    "plot_state_hinton(psi)"
   ]
  },
  {
   "cell_type": "markdown",
   "id": "c367604e",
   "metadata": {},
   "source": [
    "Plot the expansion of the density matrix in the Pauli basis\n",
    "$$\\rho = \\sum_{A,B=\\{I,X,Y,Z\\}}c_{AB}A\\otimes B.$$"
   ]
  },
  {
   "cell_type": "code",
   "execution_count": null,
   "id": "95bad734",
   "metadata": {},
   "outputs": [],
   "source": [
    "plot_state_paulivec(psi)"
   ]
  },
  {
   "cell_type": "markdown",
   "id": "96a21074",
   "metadata": {},
   "source": [
    "It is also possible to visualize the result on the Bloch sphere with `plot_bloch_multivector`. If the multi-qubit state is entangled, the reduced density matrix obtained after taking the partial trace over all qubits other than qubit $q$ is plotted for all of the qubits."
   ]
  },
  {
   "cell_type": "code",
   "execution_count": null,
   "id": "22d9bb02",
   "metadata": {},
   "outputs": [],
   "source": [
    "plot_bloch_multivector(psi_with_measurement)"
   ]
  },
  {
   "cell_type": "code",
   "execution_count": null,
   "id": "0da1755b",
   "metadata": {},
   "outputs": [],
   "source": [
    "import qiskit.tools.jupyter\n",
    "%qiskit_version_table\n",
    "%qiskit_copyright"
   ]
  },
  {
   "cell_type": "code",
   "execution_count": null,
   "id": "cbbaed7b",
   "metadata": {},
   "outputs": [],
   "source": []
  }
 ],
 "metadata": {
  "kernelspec": {
   "display_name": "Python 3 (ipykernel)",
   "language": "python",
   "name": "python3"
  },
  "language_info": {
   "codemirror_mode": {
    "name": "ipython",
    "version": 3
   },
   "file_extension": ".py",
   "mimetype": "text/x-python",
   "name": "python",
   "nbconvert_exporter": "python",
   "pygments_lexer": "ipython3",
   "version": "3.9.7"
  }
 },
 "nbformat": 4,
 "nbformat_minor": 5
}
