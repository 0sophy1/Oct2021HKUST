{
 "cells": [
  {
   "cell_type": "markdown",
   "id": "ab30fe24",
   "metadata": {},
   "source": [
    "# Lecture 1\n",
    "\n",
    "~~- Part 1: Qiskit Basic (10min)~~\n",
    "    - ~~Basic Quantum Gates and Operations~~\n",
    "    - ~~Exercise: Quantum State manipulating with the gates - Bell State~~\n",
    "~~- Part 2: Tutorial with GHZ Circuit (30 min)\n",
    "    - Compose 3-qubits GHZ quantum circuits\n",
    "    - simulating them on various backends, and visualizing the results~~\n",
    "- Part 3: Introduction of the Quantum Information Theory (30min)\n",
    "    - Phase Kickback\n",
    "    - the Deutsch Jozsa algorithm\n",
    "- Exercise (20min):\n",
    "    - explore easy physics model by using qiskit with assignment1"
   ]
  },
  {
   "cell_type": "markdown",
   "id": "8cef817a",
   "metadata": {},
   "source": [
    "# Part 3: Introduction of the Quantum Information Theory (30min)\n"
   ]
  },
  {
   "cell_type": "markdown",
   "id": "108fc686",
   "metadata": {},
   "source": [
    "## Phase kickback - How we use the global phase\n",
    "\n",
    "A global phase plays nothing when it multiplied to a state, it plays nothing physical with the measurement.\n",
    "\n",
    "$|\\psi\\rangle \\rightarrow e^{i\\alpha}|\\psi\\rangle $ then in measurement, $|\\langle\\phi|\\psi\\rangle|^2 \\rightarrow |e^{i\\alpha}\\langle\\phi|\\psi\\rangle|^2 = |e^{i\\alpha}|^2|\\langle\\phi|\\psi\\rangle|^2 = |\\langle\\phi|\\psi\\rangle|^2$\n",
    "\n",
    "But let's see what happens if we define a controlled operation with this:\n",
    "let $V_\\alpha = e^{i\\alpha}I$ is a simple operation which multiply global phase to any state. If we define a controlled operation with $V_\\alpha$, the result would be interesting like below:\n",
    "$$|0\\rangle\\langle0|\\otimes I + |1\\rangle\\langle1|\\otimes e^{i\\alpha}I = \n",
    "\\begin{pmatrix}\n",
    "1 & 0\\\\\n",
    "0 & e^{i\\alpha}\n",
    "\\end{pmatrix} \\otimes I\n",
    "$$\n",
    "the phase is accumulated onto the control qubit - not the target qubit happens. This is the fundamentals of the \"Phase Kickback\". If we apply controlled-U operation onto the $|\\psi_k\\rangle$, one the of **eigenstate** of the U, then the $|\\psi_k\\rangle$ is unchanged but the $|0\\rangle\\langle0|\\otimes I + |1\\rangle\\langle1|\\otimes e^{i\\alpha}I$ is applied to the control qubit and it can be measured.\n",
    "\n",
    "The goal of this exercise is to examine a simple example of phase kickback. Complete the following task:\n",
    "1. Generate two eigenstate of X Gate $|+\\rangle$ and $|-\\rangle$ \n",
    "Visualize it and make sure it is correct.\n",
    "2. Execute it on the state vector simulator and visualize the result using `plot_bloch_multivector`.\n",
    "3. Add a controlled-X gate (CNOT gate) to the circuit and draw the resulting circuit to make sure it is correct.\n",
    "4. Execute it again the state vector simulator and visualize the result using `plot_bloch_multivector`. "
   ]
  },
  {
   "cell_type": "code",
   "execution_count": null,
   "id": "33bd6949",
   "metadata": {},
   "outputs": [],
   "source": [
    "# Importing standard Qiskit libraries\n",
    "from qiskit import QuantumCircuit, execute, Aer, IBMQ\n",
    "from qiskit.visualization import *\n",
    "from qiskit.quantum_info import state_fidelity\n",
    "\n",
    "import numpy as np\n",
    "\n",
    "#ignore warnings\n",
    "import warnings\n",
    "warnings.filterwarnings('ignore')\n",
    "\n",
    "# Magic function to render plots\n",
    "%matplotlib inline\n",
    "\n",
    "backend = Aer.get_backend('statevector_simulator')"
   ]
  },
  {
   "cell_type": "code",
   "execution_count": null,
   "id": "60cb7772",
   "metadata": {},
   "outputs": [],
   "source": [
    "# Generate a quantum circuit for two qubits \n",
    "qc = QuantumCircuit(2)\n",
    "\n",
    "# let's make a circuit that q0 -> +, q1 -> -\n",
    "\n",
    "# Draw the quantum circuit\n",
    "qc.draw(output='mpl')"
   ]
  },
  {
   "cell_type": "code",
   "execution_count": null,
   "id": "0d6b3a1c",
   "metadata": {},
   "outputs": [],
   "source": [
    "# Run it on the state vector simulator\n",
    "job = execute(qc, backend)\n",
    "result = job.result()\n",
    "vec = result.get_statevector()"
   ]
  },
  {
   "cell_type": "code",
   "execution_count": null,
   "id": "8af317d9",
   "metadata": {},
   "outputs": [],
   "source": [
    "# Visualize the resulting state vector\n",
    "plot_bloch_multivector(vec)"
   ]
  },
  {
   "cell_type": "markdown",
   "id": "ca844f08",
   "metadata": {},
   "source": [
    "Since we only applied single qubit gates, our state is necessarily a product state. The $x$ axis on the Bloch sphere correspond to the states $|+\\rangle=\\frac{1}{\\sqrt{2}}\\left(|0\\rangle + |1\\rangle\\right)$ (positive direction) and $|-\\rangle=\\frac{1}{\\sqrt{2}}\\left(|0\\rangle - |1\\rangle\\right)$. From the plot we can see that we got the state \n",
    "$$|-+\\rangle = \\frac{1}{\\sqrt{2}}\\left(|0\\rangle - |1\\rangle\\right) \\otimes \\frac{1}{\\sqrt{2}}\\left(|0\\rangle + |1\\rangle\\right)$$"
   ]
  },
  {
   "cell_type": "code",
   "execution_count": null,
   "id": "2e4eaa47",
   "metadata": {},
   "outputs": [],
   "source": [
    "# Add a CNOT gate to the circuit\n",
    "\n",
    "\n",
    "# Draw the circuit\n",
    "qc.draw(output='mpl')"
   ]
  },
  {
   "cell_type": "code",
   "execution_count": null,
   "id": "2ddd5aeb",
   "metadata": {},
   "outputs": [],
   "source": [
    "# Run it on the state vector simulator\n",
    "job = execute(qc, backend)\n",
    "result = job.result()\n",
    "vec = result.get_statevector()\n",
    "plot_bloch_multivector(vec)"
   ]
  },
  {
   "cell_type": "markdown",
   "id": "c9cc9511",
   "metadata": {},
   "source": [
    "From this plot we see that only the state of the qubit0 is changed. Although qubit 0 is just for the control and qubit 1 is the target, the CNOT gate nevertheless changes the state of qubit 0. The reason for that can be understood by going through the circuit step by step. \n",
    "\n",
    "The initial state before applying the CNOT gate is given by\n",
    "1. The first $X$ gate creates the state\n",
    "$$|00\\rangle \\xrightarrow{X} |10\\rangle.$$\n",
    "2. The subsequent Hadamard gates create the state\n",
    "$$|10\\rangle \\xrightarrow {H\\otimes H} |-+\\rangle = \\frac{1}{2}(|00\\rangle + |01\\rangle - |10\\rangle - |11\\rangle) $$\n",
    "where $|-\\rangle = \\frac{1}{\\sqrt{2}}\\left(|0\\rangle - |1\\rangle\\right)$ is the eigenstates of $X$ with eigenvalues $-1$ and $|+\\rangle = \\frac{1}{\\sqrt{2}}\\left(|0\\rangle + |1\\rangle\\right)$ is the eigenstates with $1$.\n",
    "\n",
    "If we now apply the CNOT (controlled $X$) gate, it acts on the second qubit if the control is qubit is $|1\\rangle$. Thus, we obtain\n",
    "$$CNOT|-+\\rangle = \\frac{1}{2}(|00\\rangle - |01\\rangle - |10\\rangle + |11\\rangle)  = |--\\rangle$$\n",
    "Hence, we see that the target qubit is still in state $|-\\rangle$ while the control qubit is in $|-\\rangle$."
   ]
  },
  {
   "cell_type": "markdown",
   "id": "364867d5",
   "metadata": {},
   "source": [
    "## Additional Exercise\n",
    "\n",
    "Replace the CNOT gate with a controlled $R_x$ gate (`crx(angle, ind_control, ind_target)`). Repeat the experiment for several angles between $[0,2\\pi]$. Guess what will we observe."
   ]
  },
  {
   "cell_type": "code",
   "execution_count": null,
   "id": "6cca0332",
   "metadata": {},
   "outputs": [],
   "source": [
    "\n",
    "qc2 = QuantumCircuit(2)\n",
    "# Add the gates to produce q0 -> |+>, q1 -> |->\n",
    "\n",
    "# Draw the quantum circuit\n",
    "qc2.draw(output='mpl')\n"
   ]
  },
  {
   "cell_type": "code",
   "execution_count": null,
   "id": "98914191",
   "metadata": {},
   "outputs": [],
   "source": [
    "# Number of steps\n",
    "nsteps = 10\n",
    "for i in range(nsteps):\n",
    "    # We add a controlled R_x gate with different angle to our base circuit\n",
    "    qc3 = QuantumCircuit(2)    \n",
    "    qc3.compose(qc2, inplace=True)\n",
    "    qc3.crx(i*4*np.pi/nsteps,0,1)\n",
    "    # Run the resulting circuit on the state vector simulator\n",
    "    job = execute(qc3, backend)\n",
    "    result = job.result()\n",
    "    vec = result.get_statevector()\n",
    "    # Visualize the state vector\n",
    "    h = plot_bloch_multivector(vec)    \n",
    "    # Save the image to disk\n",
    "    h.savefig(str(i)+'.png')    "
   ]
  },
  {
   "cell_type": "code",
   "execution_count": null,
   "id": "a3850b67",
   "metadata": {},
   "outputs": [],
   "source": [
    "from IPython.display import Image\n",
    "Image(\"gif.gif\")"
   ]
  },
  {
   "cell_type": "markdown",
   "id": "72b70a3c",
   "metadata": {},
   "source": [
    "Till here, we've took a look at the basic but powerful ingredient to make a quantum algorithem. Belows are the link for the other famouse quantum methods which use the phase-kickback. \n",
    "\n",
    "https://qiskit.org/textbook/ch-algorithms/quantum-phase-estimation.html\n",
    "\n",
    "https://qiskit.org/textbook/ch-algorithms/grover.html\n",
    "\n",
    "It's time for us using it to build a so famouse quantum algorithm - the Deutsch Jozsa with this principle.\n",
    "\n",
    "## the Deutsch Jozsa algorithm\n"
   ]
  },
  {
   "cell_type": "markdown",
   "id": "84a6d4f7",
   "metadata": {},
   "source": [
    "The Deutsch-Jozsa algorithm, first introduced in their famouse paper-[Rapid solutions of problems by quantum computation\". Proceedings of the Royal Society of London A. 439: 553–558, 1992](doi:10.1098/rspa.1992.0167)., was the first example of a quantum algorithm that performs better than the best classical algorithm. It showed that there can be advantages to using a quantum computer as a computational tool for a specific problem."
   ]
  },
  {
   "cell_type": "markdown",
   "id": "b749cc8a",
   "metadata": {},
   "source": [
    "In here, we will simply cover the foundamentals.\n",
    "\n",
    "We are given a hidden Boolean function (usually called by \"Oracle\") $f$, which takes as input a string of bits, and returns either $0$ or $1$, that is:\n",
    "\n",
    "$$\n",
    "f(\\{x_0,x_1,x_2,...\\}) \\rightarrow 0 \\textrm{ or } 1 \\textrm{ , where } x_n \\textrm{ is } 0 \\textrm{ or } 1$$\n",
    "\n",
    "The property of the given Boolean function is that it is guaranteed to either be balanced or constant. A constant function returns the same result regardless of the inputs - all  0 's or all  1 's, while a balanced function returns  0 's for exactly half of all inputs and  1 's for the other half. Our task is to determine whether the given function is balanced or constant.\n",
    "\n",
    "With a classical approach, if we have N inputs, we need to put maximum  𝑁/2+1  inputs to test the function. Of course, if we are lucky enough, we can just get the answers with only 2 inputs.\n",
    "\n",
    "But the Deutsch Jozsa algorithm guarantee that we can get the answer with only one shot. Let's see how it work."
   ]
  },
  {
   "cell_type": "markdown",
   "id": "9c2cf0cc",
   "metadata": {},
   "source": [
    "### Quantum parallelism\n",
    "\n",
    "With a superposition state of a quantum computer, we can achieve the \"Quantum parallelism\".\n",
    "\n",
    "If we have a $|+\\rangle =\\frac{1}{\\sqrt{2}}\\left(|0\\rangle + |1 \\rangle \\right)$ state and then apply any quantum operation $U$ to it, we can get the $|\\psi\\rangle =\\frac{1}{\\sqrt{2}}\\left(U|0\\rangle + U|1 \\rangle \\right)$. This result contains both of the result - $U|0\\rangle$ and $U|1\\rangle$, and this is the foundation of the quantum parallelism and this is one of the foundations of the Deutsch-Jozsa algorithm's quantum excellency.\n",
    "\n",
    "In a classical way, we need to set up registers to encode binary information in every computational iteration, but in quantum computers, we can encode the whole possible binary input value with one circuit.\n",
    "\n",
    "For example, in a classical way, we need to prepare two circuits to encode 0 and 1 like below:"
   ]
  },
  {
   "cell_type": "code",
   "execution_count": null,
   "id": "76d4d744",
   "metadata": {},
   "outputs": [],
   "source": [
    "qc = QuantumCircuit(1)\n",
    "\n",
    "#encode 0 to the register\n",
    "##do nothing because of the quantum registers automatically initialized into 0\n",
    "\n",
    "job = execute(qc, backend)\n",
    "result = job.result()\n",
    "print(result.get_counts())"
   ]
  },
  {
   "cell_type": "code",
   "execution_count": null,
   "id": "73efbdd8",
   "metadata": {},
   "outputs": [],
   "source": [
    "qc = QuantumCircuit(1)\n",
    "#encode 1 to the register\n",
    "qc.x(0)\n",
    "job = execute(qc, backend)\n",
    "result = job.result()\n",
    "print(result.get_counts())"
   ]
  },
  {
   "cell_type": "markdown",
   "id": "51c7dcc7",
   "metadata": {},
   "source": [
    "But with quantum parallelism, we can encode both of the information simply by applying the Hadamard gate onto one qubit."
   ]
  },
  {
   "cell_type": "code",
   "execution_count": null,
   "id": "70e77e07",
   "metadata": {},
   "outputs": [],
   "source": [
    "qc = QuantumCircuit(1)\n",
    "#encode 1 to the register\n",
    "qc.h(0)\n",
    "job = execute(qc, backend)\n",
    "result = job.result()\n",
    "print(result.get_counts())"
   ]
  },
  {
   "cell_type": "markdown",
   "id": "246e2d5e",
   "metadata": {},
   "source": [
    "In this way, we can encode $2^N$ data only with the N qubits. For example, we can encode 16 data with 4 qubits with equally probable way like below:"
   ]
  },
  {
   "cell_type": "code",
   "execution_count": null,
   "id": "45d74990",
   "metadata": {},
   "outputs": [],
   "source": [
    "qc = QuantumCircuit(4)\n",
    "#encode 1 to the register\n",
    "qc.h(range(4))\n",
    "job = execute(qc, backend)\n",
    "result = job.result()\n",
    "print(result.get_counts())"
   ]
  },
  {
   "cell_type": "markdown",
   "id": "e7e6fcb7",
   "metadata": {},
   "source": [
    "So the first step of the Deutsch-Jozsa algorithm is to prepare inputs for testing the oracle in this manner. The general step of the Deutsch-Jozsa algorithm is:\n",
    "\n",
    "1. prepare superpositioned inputs\n",
    "2. apply these inputs to the Oracle\n",
    "3. Measure the inputs with a proper computational basis. if the oracle is constant, it will return 0000 or 1111 but if not, it will return 0% of probability on measuring 0000 or 1111.\n",
    "\n",
    "The art of the Deutsch-Jozsa algorithm is this quantum parallelism and the rest of the part is understanding how to compose an Oracle to handle this parallelism and how to apply proper measurement with this quantum-excellency.\n",
    "\n",
    "Remember that the inputs created in this way is in the $|+\\rangle$ state and it is in the eigenstate of the x gate as we talked about earlier.\n",
    "The oracle of this algorithm should be something that \"acts\" on these superpositioned data, and in this example we want to write our own constant/balanced oracle that operates on the these superposition state using phase-kickback. \n",
    "\n",
    "\n",
    "I've mentioned that it is important to apply \"proper\" measurement because it uses the \"quantum principle\" to work on. In this tutorial, we will build a phase-kickback-oriented oracle that operates on the X-axis, so here, we need to measure the input on an x basis. This is simply achieved by applying the Hadamard gate before measurement and you can check more details of this [here](https://qiskit.org/textbook/ch-states/single-qubit-gates.html#measuring).\n",
    "\n",
    "So the general step of this algorithm revised like:\n",
    "1. prepare superpositioned N qubit inputs\n",
    "2. apply inputs to the Oracle\n",
    "3. to measure the result after oracle, apply the H gate to all input qubits then measure it all to get a result to validate the oracle.\n",
    "The total scheme of this flow will look like this:"
   ]
  },
  {
   "cell_type": "code",
   "execution_count": null,
   "id": "fe3da70c",
   "metadata": {},
   "outputs": [],
   "source": [
    "Image(\"DJ_Scheme.png\")"
   ]
  },
  {
   "cell_type": "markdown",
   "id": "5df276aa",
   "metadata": {},
   "source": [
    "Let's work with the input circuit first."
   ]
  },
  {
   "cell_type": "code",
   "execution_count": null,
   "id": "65ff21c8",
   "metadata": {},
   "outputs": [],
   "source": [
    "digit = 4\n",
    "input = QuantumCircuit(digit)\n",
    "input.h(range(4))\n",
    "input.name = \"input\"\n",
    "input.draw('mpl')"
   ]
  },
  {
   "cell_type": "markdown",
   "id": "a664ef41",
   "metadata": {},
   "source": [
    "Next, prepare a void quantum circuit to compose the oracle with digit+1 qubits. the +1 comes from the auxiliary qubit for the phase kickback."
   ]
  },
  {
   "cell_type": "code",
   "execution_count": null,
   "id": "16a1bfb8",
   "metadata": {},
   "outputs": [],
   "source": [
    "oracle = QuantumCircuit(digit+1) # gives one out of 5 oracles\n",
    "oracle.name = \"DJ\""
   ]
  },
  {
   "cell_type": "markdown",
   "id": "276ad341",
   "metadata": {},
   "source": [
    "The final step is prepare a quantum circuit for the measurement."
   ]
  },
  {
   "cell_type": "code",
   "execution_count": null,
   "id": "0f1e65ed",
   "metadata": {},
   "outputs": [],
   "source": [
    "#combine all\n",
    "dj = QuantumCircuit(digit + 1, digit) #will use 4digit binary data and we need one auxillary qubit\n",
    "#prepare inputs with quantum parallelism\n",
    "dj.append(input, range(digit))\n",
    "#apply oracle\n",
    "dj.append(oracle, range(digit+1))\n",
    "#apply x basis measurement\n",
    "dj.h(range(digit))\n",
    "dj.measure(range(digit), range(digit))\n",
    "\n",
    "dj.draw('mpl')\n"
   ]
  },
  {
   "cell_type": "markdown",
   "id": "e68e3167",
   "metadata": {},
   "source": [
    "with this void Oracle function, the measurement result is this"
   ]
  },
  {
   "cell_type": "code",
   "execution_count": null,
   "id": "9a217a41",
   "metadata": {},
   "outputs": [],
   "source": [
    "qasm_simulator = Aer.get_backend('qasm_simulator')\n",
    "job = execute(dj, qasm_simulator, shots=1024)\n",
    "result = job.result()\n",
    "answer = result.get_counts()\n",
    "\n",
    "plot_histogram(answer)"
   ]
  },
  {
   "cell_type": "markdown",
   "id": "a7431f52",
   "metadata": {},
   "source": [
    "We've made a \"Constant Oracle\" which returns \"0000\" whatever the input is. Let's imply building a Constant oracle that returns \"1111\" with every input. What is your strategy with this? below is my simple strategy. Hope you try to build your own one."
   ]
  },
  {
   "cell_type": "code",
   "execution_count": null,
   "id": "f0c86415",
   "metadata": {},
   "outputs": [],
   "source": [
    "#Constant oracle with returns 1111\n",
    "oracle = QuantumCircuit(digit+1) # gives one out of 5 oracles\n",
    "oracle.name = \"DJ\"\n",
    "\n",
    "\n",
    "oracle.draw('mpl')"
   ]
  },
  {
   "cell_type": "code",
   "execution_count": null,
   "id": "7b610504",
   "metadata": {},
   "outputs": [],
   "source": [
    "#combine all\n",
    "dj = QuantumCircuit(digit + 1, digit) #will use 4digit binary data and we need one auxillary qubit\n",
    "#prepare inputs with quantum parallelism\n",
    "dj.append(input, range(digit))\n",
    "#apply oracle\n",
    "dj.append(oracle, range(digit+1))\n",
    "#apply x basis measurement\n",
    "dj.h(range(digit))\n",
    "dj.measure(range(digit), range(digit))\n",
    "\n",
    "qasm_simulator = Aer.get_backend('qasm_simulator')\n",
    "job = execute(dj, qasm_simulator, shots=1024)\n",
    "result = job.result()\n",
    "answer = result.get_counts()\n",
    "\n",
    "plot_histogram(answer)"
   ]
  },
  {
   "cell_type": "markdown",
   "id": "4e1653ec",
   "metadata": {},
   "source": [
    "### Build balanced oracle with the \"phase-kickback\" principle\n",
    "\n",
    "Now, try to build a balanced oracle with the phase kickback. There are so many ways to compose it and we can simply add one control gate to make it this way."
   ]
  },
  {
   "cell_type": "code",
   "execution_count": null,
   "id": "d13d5fdc",
   "metadata": {},
   "outputs": [],
   "source": [
    "oracle = QuantumCircuit(digit+1) # gives one out of 5 oracles\n",
    "oracle.name = \"DJ\"\n",
    "\n",
    "#to work with the phase kickback, first, set the auxiliary qubit into the |-> state\n",
    "\n",
    "\n",
    "#then apply cx operation some of the input qubit with the auxilary. Let's design any circuit as you want\n",
    "\n",
    "\n",
    "oracle.draw('mpl')"
   ]
  },
  {
   "cell_type": "markdown",
   "id": "4f0f8c95",
   "metadata": {},
   "source": [
    "And let's check the result!"
   ]
  },
  {
   "cell_type": "code",
   "execution_count": null,
   "id": "426af501",
   "metadata": {},
   "outputs": [],
   "source": [
    "dj = QuantumCircuit(digit + 1, digit) #will use 4digit binary data and we need one auxillary qubit\n",
    "\n",
    "#prepare inputs with quantum parallelism\n",
    "dj.append(input, range(digit))\n",
    "#apply oracle\n",
    "dj.append(oracle, range(digit+1))\n",
    "#apply x basis measurement\n",
    "dj.h(range(digit))\n",
    "dj.measure(range(digit), range(digit))\n",
    "\n",
    "qasm_simulator = Aer.get_backend('qasm_simulator')\n",
    "job = execute(dj, qasm_simulator, shots=1024)\n",
    "result = job.result()\n",
    "answer = result.get_counts()\n",
    "\n",
    "plot_histogram(answer)"
   ]
  },
  {
   "cell_type": "code",
   "execution_count": null,
   "id": "26130ff9",
   "metadata": {},
   "outputs": [],
   "source": [
    "from qiskit.providers.ibmq import least_busy\n",
    "from qiskit.tools.monitor import job_monitor\n",
    "\n",
    "\n",
    "q5devices = provider.backends(filters=lambda x: x.configuration().n_qubits == 5\n",
    "                                   and not x.configuration().simulator)\n",
    "backend = least_busy(q5devices)\n",
    "backend"
   ]
  },
  {
   "cell_type": "code",
   "execution_count": null,
   "id": "57d9b5f1",
   "metadata": {},
   "outputs": [],
   "source": [
    "job_exp = execute(dj, backend=backend, shots=8) #<< super small number\n",
    "job_monitor(job_exp)"
   ]
  },
  {
   "cell_type": "code",
   "execution_count": null,
   "id": "03e4ffac",
   "metadata": {},
   "outputs": [],
   "source": [
    "result_exp = job_exp.result()\n",
    "counts_exp = result_exp.get_counts(dj)\n",
    "plot_histogram(counts_exp)"
   ]
  },
  {
   "cell_type": "markdown",
   "id": "446eaaae",
   "metadata": {},
   "source": [
    "To see the noisy feature of the backend, let's run this experiment with more shots."
   ]
  },
  {
   "cell_type": "code",
   "execution_count": null,
   "id": "22b5be46",
   "metadata": {},
   "outputs": [],
   "source": [
    "job_exp = execute(dj, backend=backend, shots=8192) #8192 is the maximum shot number for the current real backend.\n",
    "job_monitor(job_exp)"
   ]
  },
  {
   "cell_type": "code",
   "execution_count": null,
   "id": "dae1a716",
   "metadata": {},
   "outputs": [],
   "source": [
    "result_exp = job_exp.result()\n",
    "counts_exp = result_exp.get_counts(dj)\n",
    "plot_histogram(counts_exp)"
   ]
  },
  {
   "cell_type": "markdown",
   "id": "438623ed",
   "metadata": {},
   "source": [
    "For further study, please take a look at:\n",
    "### Qiskit textbook \n",
    "\n",
    "[here](https://qiskit.org/textbook/ch-algorithms/deutsch-jozsa.html )\n",
    "\n",
    "### Qiskit Youtube Lecture: \n",
    "\n",
    "[Writing and Running Quantum Programs - Part 1]( https://www.youtube.com/watch?v=qrYVO9-dxLE)\n",
    "\n",
    "[Writing and Running Quantum Programs - Part 2](https://www.youtube.com/watch?v=iJX794qJIpY&list=RDCMUClBNq7mCMf5xm8baE_VMl3A&index=4)\n",
    "\n",
    "[Writing and Running Quantum Programs - Part 3](https://www.youtube.com/watch?v=enYP9TaDeJI&list=RDCMUClBNq7mCMf5xm8baE_VMl3A&start_radio=1&rv=enYP9TaDeJI&t=0)\n"
   ]
  },
  {
   "cell_type": "code",
   "execution_count": null,
   "id": "0da1755b",
   "metadata": {},
   "outputs": [],
   "source": [
    "import qiskit.tools.jupyter\n",
    "%qiskit_version_table\n",
    "%qiskit_copyright"
   ]
  },
  {
   "cell_type": "code",
   "execution_count": null,
   "id": "cbbaed7b",
   "metadata": {},
   "outputs": [],
   "source": []
  }
 ],
 "metadata": {
  "kernelspec": {
   "display_name": "Python 3 (ipykernel)",
   "language": "python",
   "name": "python3"
  },
  "language_info": {
   "codemirror_mode": {
    "name": "ipython",
    "version": 3
   },
   "file_extension": ".py",
   "mimetype": "text/x-python",
   "name": "python",
   "nbconvert_exporter": "python",
   "pygments_lexer": "ipython3",
   "version": "3.9.7"
  }
 },
 "nbformat": 4,
 "nbformat_minor": 5
}
